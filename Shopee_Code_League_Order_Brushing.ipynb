{
  "nbformat": 4,
  "nbformat_minor": 0,
  "metadata": {
    "colab": {
      "name": "Shopee Code League - Order Brushing",
      "provenance": [],
      "authorship_tag": "ABX9TyMXgm9fgC0TbWEhP11JsN1v",
      "include_colab_link": true
    },
    "kernelspec": {
      "name": "python3",
      "display_name": "Python 3"
    }
  },
  "cells": [
    {
      "cell_type": "markdown",
      "metadata": {
        "id": "view-in-github",
        "colab_type": "text"
      },
      "source": [
        "<a href=\"https://colab.research.google.com/github/vgaby23/Shopee-Code-League/blob/master/Shopee_Code_League_Order_Brushing.ipynb\" target=\"_parent\"><img src=\"https://colab.research.google.com/assets/colab-badge.svg\" alt=\"Open In Colab\"/></a>"
      ]
    },
    {
      "cell_type": "code",
      "metadata": {
        "id": "uY3b6Ko7cTtB",
        "colab_type": "code",
        "colab": {}
      },
      "source": [
        "import pandas as pd\n",
        "import numpy as np"
      ],
      "execution_count": null,
      "outputs": []
    },
    {
      "cell_type": "code",
      "metadata": {
        "id": "3LJ7Ab6ldKzn",
        "colab_type": "code",
        "colab": {
          "base_uri": "https://localhost:8080/",
          "height": 207
        },
        "outputId": "bc308078-e9f6-4f89-fd11-892bdc0fab67"
      },
      "source": [
        "df = pd.read_csv(\"/content/order_brush_order.csv\")\n",
        "df.head\n",
        "df['event_time'] = pd.to_datetime(df['event_time'])\n",
        "df.info()"
      ],
      "execution_count": null,
      "outputs": [
        {
          "output_type": "stream",
          "text": [
            "<class 'pandas.core.frame.DataFrame'>\n",
            "RangeIndex: 222750 entries, 0 to 222749\n",
            "Data columns (total 4 columns):\n",
            " #   Column      Non-Null Count   Dtype         \n",
            "---  ------      --------------   -----         \n",
            " 0   orderid     222750 non-null  int64         \n",
            " 1   shopid      222750 non-null  int64         \n",
            " 2   userid      222750 non-null  int64         \n",
            " 3   event_time  222750 non-null  datetime64[ns]\n",
            "dtypes: datetime64[ns](1), int64(3)\n",
            "memory usage: 6.8 MB\n"
          ],
          "name": "stdout"
        }
      ]
    },
    {
      "cell_type": "code",
      "metadata": {
        "id": "rZ129nrUgqgP",
        "colab_type": "code",
        "colab": {
          "base_uri": "https://localhost:8080/",
          "height": 232
        },
        "outputId": "eaabff2b-2cf5-4f5f-ef07-fbe1a58d6843"
      },
      "source": [
        "#df['duration'] = df['event_time'].time_column.astype(int)\n",
        "df = df.groupby(['shopid','userid']).agg(\n",
        "    min_event_time = ('event_time', 'min'),\n",
        "    max_event_time = ('event_time', 'max'),\n",
        "    order_id = ('orderid', 'count'))\n",
        "df['duration_minute'] = df['max_event_time'] - df['min_event_time']\n",
        "df.head()"
      ],
      "execution_count": null,
      "outputs": [
        {
          "output_type": "execute_result",
          "data": {
            "text/html": [
              "<div>\n",
              "<style scoped>\n",
              "    .dataframe tbody tr th:only-of-type {\n",
              "        vertical-align: middle;\n",
              "    }\n",
              "\n",
              "    .dataframe tbody tr th {\n",
              "        vertical-align: top;\n",
              "    }\n",
              "\n",
              "    .dataframe thead th {\n",
              "        text-align: right;\n",
              "    }\n",
              "</style>\n",
              "<table border=\"1\" class=\"dataframe\">\n",
              "  <thead>\n",
              "    <tr style=\"text-align: right;\">\n",
              "      <th></th>\n",
              "      <th></th>\n",
              "      <th>min_event_time</th>\n",
              "      <th>max_event_time</th>\n",
              "      <th>order_id</th>\n",
              "      <th>duration_minute</th>\n",
              "    </tr>\n",
              "    <tr>\n",
              "      <th>shopid</th>\n",
              "      <th>userid</th>\n",
              "      <th></th>\n",
              "      <th></th>\n",
              "      <th></th>\n",
              "      <th></th>\n",
              "    </tr>\n",
              "  </thead>\n",
              "  <tbody>\n",
              "    <tr>\n",
              "      <th>10009</th>\n",
              "      <th>196962305</th>\n",
              "      <td>2019-12-27 03:06:50</td>\n",
              "      <td>2019-12-27 03:06:50</td>\n",
              "      <td>1</td>\n",
              "      <td>0 days</td>\n",
              "    </tr>\n",
              "    <tr>\n",
              "      <th rowspan=\"2\" valign=\"top\">10051</th>\n",
              "      <th>2854032</th>\n",
              "      <td>2019-12-27 19:16:11</td>\n",
              "      <td>2019-12-27 19:16:11</td>\n",
              "      <td>1</td>\n",
              "      <td>0 days</td>\n",
              "    </tr>\n",
              "    <tr>\n",
              "      <th>48600461</th>\n",
              "      <td>2019-12-29 01:56:19</td>\n",
              "      <td>2019-12-29 01:56:19</td>\n",
              "      <td>1</td>\n",
              "      <td>0 days</td>\n",
              "    </tr>\n",
              "    <tr>\n",
              "      <th rowspan=\"2\" valign=\"top\">10061</th>\n",
              "      <th>62464559</th>\n",
              "      <td>2019-12-31 02:58:48</td>\n",
              "      <td>2019-12-31 02:58:48</td>\n",
              "      <td>1</td>\n",
              "      <td>0 days</td>\n",
              "    </tr>\n",
              "    <tr>\n",
              "      <th>130633421</th>\n",
              "      <td>2019-12-30 21:35:15</td>\n",
              "      <td>2019-12-30 21:35:15</td>\n",
              "      <td>1</td>\n",
              "      <td>0 days</td>\n",
              "    </tr>\n",
              "  </tbody>\n",
              "</table>\n",
              "</div>"
            ],
            "text/plain": [
              "                      min_event_time  ... duration_minute\n",
              "shopid userid                         ...                \n",
              "10009  196962305 2019-12-27 03:06:50  ...          0 days\n",
              "10051  2854032   2019-12-27 19:16:11  ...          0 days\n",
              "       48600461  2019-12-29 01:56:19  ...          0 days\n",
              "10061  62464559  2019-12-31 02:58:48  ...          0 days\n",
              "       130633421 2019-12-30 21:35:15  ...          0 days\n",
              "\n",
              "[5 rows x 4 columns]"
            ]
          },
          "metadata": {
            "tags": []
          },
          "execution_count": 155
        }
      ]
    },
    {
      "cell_type": "code",
      "metadata": {
        "id": "v2_xzDmamvTS",
        "colab_type": "code",
        "colab": {
          "base_uri": "https://localhost:8080/",
          "height": 242
        },
        "outputId": "43710bc1-128b-4206-bcd3-41ecc3fcf21f"
      },
      "source": [
        "df.reset_index(level=-1, inplace=True)\n",
        "df.reset_index(level=-1, inplace=True)\n",
        "df.info()"
      ],
      "execution_count": null,
      "outputs": [
        {
          "output_type": "stream",
          "text": [
            "<class 'pandas.core.frame.DataFrame'>\n",
            "RangeIndex: 205003 entries, 0 to 205002\n",
            "Data columns (total 6 columns):\n",
            " #   Column           Non-Null Count   Dtype          \n",
            "---  ------           --------------   -----          \n",
            " 0   shopid           205003 non-null  int64          \n",
            " 1   userid           205003 non-null  int64          \n",
            " 2   min_event_time   205003 non-null  datetime64[ns] \n",
            " 3   max_event_time   205003 non-null  datetime64[ns] \n",
            " 4   order_id         205003 non-null  int64          \n",
            " 5   duration_minute  205003 non-null  timedelta64[ns]\n",
            "dtypes: datetime64[ns](2), int64(3), timedelta64[ns](1)\n",
            "memory usage: 9.4 MB\n"
          ],
          "name": "stdout"
        }
      ]
    },
    {
      "cell_type": "code",
      "metadata": {
        "id": "EhSUBQRAsdZx",
        "colab_type": "code",
        "colab": {
          "base_uri": "https://localhost:8080/",
          "height": 202
        },
        "outputId": "9be1e2df-a229-4968-8c4c-fe3311dc166f"
      },
      "source": [
        "df_agg = df[df['order_id'] >= 3]\n",
        "df_agg.head()"
      ],
      "execution_count": null,
      "outputs": [
        {
          "output_type": "execute_result",
          "data": {
            "text/html": [
              "<div>\n",
              "<style scoped>\n",
              "    .dataframe tbody tr th:only-of-type {\n",
              "        vertical-align: middle;\n",
              "    }\n",
              "\n",
              "    .dataframe tbody tr th {\n",
              "        vertical-align: top;\n",
              "    }\n",
              "\n",
              "    .dataframe thead th {\n",
              "        text-align: right;\n",
              "    }\n",
              "</style>\n",
              "<table border=\"1\" class=\"dataframe\">\n",
              "  <thead>\n",
              "    <tr style=\"text-align: right;\">\n",
              "      <th></th>\n",
              "      <th>shopid</th>\n",
              "      <th>userid</th>\n",
              "      <th>min_event_time</th>\n",
              "      <th>max_event_time</th>\n",
              "      <th>order_id</th>\n",
              "      <th>duration_minute</th>\n",
              "    </tr>\n",
              "  </thead>\n",
              "  <tbody>\n",
              "    <tr>\n",
              "      <th>379</th>\n",
              "      <td>10159</td>\n",
              "      <td>62775725</td>\n",
              "      <td>2019-12-28 19:49:10</td>\n",
              "      <td>2019-12-30 20:18:54</td>\n",
              "      <td>3</td>\n",
              "      <td>2 days 00:29:44</td>\n",
              "    </tr>\n",
              "    <tr>\n",
              "      <th>426</th>\n",
              "      <td>10159</td>\n",
              "      <td>214988798</td>\n",
              "      <td>2019-12-29 20:38:09</td>\n",
              "      <td>2019-12-29 20:56:43</td>\n",
              "      <td>3</td>\n",
              "      <td>0 days 00:18:34</td>\n",
              "    </tr>\n",
              "    <tr>\n",
              "      <th>509</th>\n",
              "      <td>10208</td>\n",
              "      <td>11288307</td>\n",
              "      <td>2019-12-29 20:24:04</td>\n",
              "      <td>2019-12-31 12:58:10</td>\n",
              "      <td>3</td>\n",
              "      <td>1 days 16:34:06</td>\n",
              "    </tr>\n",
              "    <tr>\n",
              "      <th>822</th>\n",
              "      <td>10287</td>\n",
              "      <td>74488711</td>\n",
              "      <td>2019-12-27 00:13:11</td>\n",
              "      <td>2019-12-31 01:01:57</td>\n",
              "      <td>3</td>\n",
              "      <td>4 days 00:48:46</td>\n",
              "    </tr>\n",
              "    <tr>\n",
              "      <th>856</th>\n",
              "      <td>10287</td>\n",
              "      <td>103289694</td>\n",
              "      <td>2019-12-27 18:21:32</td>\n",
              "      <td>2019-12-27 20:31:58</td>\n",
              "      <td>3</td>\n",
              "      <td>0 days 02:10:26</td>\n",
              "    </tr>\n",
              "  </tbody>\n",
              "</table>\n",
              "</div>"
            ],
            "text/plain": [
              "     shopid     userid  ... order_id duration_minute\n",
              "379   10159   62775725  ...        3 2 days 00:29:44\n",
              "426   10159  214988798  ...        3 0 days 00:18:34\n",
              "509   10208   11288307  ...        3 1 days 16:34:06\n",
              "822   10287   74488711  ...        3 4 days 00:48:46\n",
              "856   10287  103289694  ...        3 0 days 02:10:26\n",
              "\n",
              "[5 rows x 6 columns]"
            ]
          },
          "metadata": {
            "tags": []
          },
          "execution_count": 157
        }
      ]
    },
    {
      "cell_type": "code",
      "metadata": {
        "id": "NXSzwZ9TOPfA",
        "colab_type": "code",
        "colab": {
          "base_uri": "https://localhost:8080/",
          "height": 202
        },
        "outputId": "2f2a267e-9de2-4966-8bd4-6acc598fcfc4"
      },
      "source": [
        "df_agg.duration_minute.astype('timedelta64[m]')\n",
        "df_agg.head()"
      ],
      "execution_count": null,
      "outputs": [
        {
          "output_type": "execute_result",
          "data": {
            "text/html": [
              "<div>\n",
              "<style scoped>\n",
              "    .dataframe tbody tr th:only-of-type {\n",
              "        vertical-align: middle;\n",
              "    }\n",
              "\n",
              "    .dataframe tbody tr th {\n",
              "        vertical-align: top;\n",
              "    }\n",
              "\n",
              "    .dataframe thead th {\n",
              "        text-align: right;\n",
              "    }\n",
              "</style>\n",
              "<table border=\"1\" class=\"dataframe\">\n",
              "  <thead>\n",
              "    <tr style=\"text-align: right;\">\n",
              "      <th></th>\n",
              "      <th>shopid</th>\n",
              "      <th>userid</th>\n",
              "      <th>min_event_time</th>\n",
              "      <th>max_event_time</th>\n",
              "      <th>order_id</th>\n",
              "      <th>duration_minute</th>\n",
              "    </tr>\n",
              "  </thead>\n",
              "  <tbody>\n",
              "    <tr>\n",
              "      <th>379</th>\n",
              "      <td>10159</td>\n",
              "      <td>62775725</td>\n",
              "      <td>2019-12-28 19:49:10</td>\n",
              "      <td>2019-12-30 20:18:54</td>\n",
              "      <td>3</td>\n",
              "      <td>2909.0</td>\n",
              "    </tr>\n",
              "    <tr>\n",
              "      <th>426</th>\n",
              "      <td>10159</td>\n",
              "      <td>214988798</td>\n",
              "      <td>2019-12-29 20:38:09</td>\n",
              "      <td>2019-12-29 20:56:43</td>\n",
              "      <td>3</td>\n",
              "      <td>18.0</td>\n",
              "    </tr>\n",
              "    <tr>\n",
              "      <th>509</th>\n",
              "      <td>10208</td>\n",
              "      <td>11288307</td>\n",
              "      <td>2019-12-29 20:24:04</td>\n",
              "      <td>2019-12-31 12:58:10</td>\n",
              "      <td>3</td>\n",
              "      <td>2434.0</td>\n",
              "    </tr>\n",
              "    <tr>\n",
              "      <th>822</th>\n",
              "      <td>10287</td>\n",
              "      <td>74488711</td>\n",
              "      <td>2019-12-27 00:13:11</td>\n",
              "      <td>2019-12-31 01:01:57</td>\n",
              "      <td>3</td>\n",
              "      <td>5808.0</td>\n",
              "    </tr>\n",
              "    <tr>\n",
              "      <th>856</th>\n",
              "      <td>10287</td>\n",
              "      <td>103289694</td>\n",
              "      <td>2019-12-27 18:21:32</td>\n",
              "      <td>2019-12-27 20:31:58</td>\n",
              "      <td>3</td>\n",
              "      <td>130.0</td>\n",
              "    </tr>\n",
              "  </tbody>\n",
              "</table>\n",
              "</div>"
            ],
            "text/plain": [
              "     shopid     userid  ... order_id duration_minute\n",
              "379   10159   62775725  ...        3          2909.0\n",
              "426   10159  214988798  ...        3            18.0\n",
              "509   10208   11288307  ...        3          2434.0\n",
              "822   10287   74488711  ...        3          5808.0\n",
              "856   10287  103289694  ...        3           130.0\n",
              "\n",
              "[5 rows x 6 columns]"
            ]
          },
          "metadata": {
            "tags": []
          },
          "execution_count": 159
        }
      ]
    },
    {
      "cell_type": "code",
      "metadata": {
        "id": "ouMOotSRRAj-",
        "colab_type": "code",
        "colab": {
          "base_uri": "https://localhost:8080/",
          "height": 427
        },
        "outputId": "faeaad2f-9463-473b-d2bf-948738fba0de"
      },
      "source": [
        "df_agg = df_agg[df_agg.duration_minute <= 60 ]\n",
        "df_agg.info()\n",
        "df_agg.head()"
      ],
      "execution_count": null,
      "outputs": [
        {
          "output_type": "stream",
          "text": [
            "<class 'pandas.core.frame.DataFrame'>\n",
            "Int64Index: 563 entries, 426 to 204901\n",
            "Data columns (total 6 columns):\n",
            " #   Column           Non-Null Count  Dtype         \n",
            "---  ------           --------------  -----         \n",
            " 0   shopid           563 non-null    int64         \n",
            " 1   userid           563 non-null    int64         \n",
            " 2   min_event_time   563 non-null    datetime64[ns]\n",
            " 3   max_event_time   563 non-null    datetime64[ns]\n",
            " 4   order_id         563 non-null    int64         \n",
            " 5   duration_minute  563 non-null    float64       \n",
            "dtypes: datetime64[ns](2), float64(1), int64(3)\n",
            "memory usage: 30.8 KB\n"
          ],
          "name": "stdout"
        },
        {
          "output_type": "execute_result",
          "data": {
            "text/html": [
              "<div>\n",
              "<style scoped>\n",
              "    .dataframe tbody tr th:only-of-type {\n",
              "        vertical-align: middle;\n",
              "    }\n",
              "\n",
              "    .dataframe tbody tr th {\n",
              "        vertical-align: top;\n",
              "    }\n",
              "\n",
              "    .dataframe thead th {\n",
              "        text-align: right;\n",
              "    }\n",
              "</style>\n",
              "<table border=\"1\" class=\"dataframe\">\n",
              "  <thead>\n",
              "    <tr style=\"text-align: right;\">\n",
              "      <th></th>\n",
              "      <th>shopid</th>\n",
              "      <th>userid</th>\n",
              "      <th>min_event_time</th>\n",
              "      <th>max_event_time</th>\n",
              "      <th>order_id</th>\n",
              "      <th>duration_minute</th>\n",
              "    </tr>\n",
              "  </thead>\n",
              "  <tbody>\n",
              "    <tr>\n",
              "      <th>426</th>\n",
              "      <td>10159</td>\n",
              "      <td>214988798</td>\n",
              "      <td>2019-12-29 20:38:09</td>\n",
              "      <td>2019-12-29 20:56:43</td>\n",
              "      <td>3</td>\n",
              "      <td>18.0</td>\n",
              "    </tr>\n",
              "    <tr>\n",
              "      <th>901</th>\n",
              "      <td>10287</td>\n",
              "      <td>198097381</td>\n",
              "      <td>2019-12-30 00:17:17</td>\n",
              "      <td>2019-12-30 00:22:05</td>\n",
              "      <td>3</td>\n",
              "      <td>4.0</td>\n",
              "    </tr>\n",
              "    <tr>\n",
              "      <th>907</th>\n",
              "      <td>10287</td>\n",
              "      <td>214226569</td>\n",
              "      <td>2019-12-31 01:13:02</td>\n",
              "      <td>2019-12-31 01:26:46</td>\n",
              "      <td>3</td>\n",
              "      <td>13.0</td>\n",
              "    </tr>\n",
              "    <tr>\n",
              "      <th>1108</th>\n",
              "      <td>10402</td>\n",
              "      <td>77819</td>\n",
              "      <td>2019-12-28 14:24:33</td>\n",
              "      <td>2019-12-28 14:30:26</td>\n",
              "      <td>3</td>\n",
              "      <td>5.0</td>\n",
              "    </tr>\n",
              "    <tr>\n",
              "      <th>1847</th>\n",
              "      <td>29583</td>\n",
              "      <td>214495220</td>\n",
              "      <td>2019-12-27 23:12:14</td>\n",
              "      <td>2019-12-27 23:27:59</td>\n",
              "      <td>4</td>\n",
              "      <td>15.0</td>\n",
              "    </tr>\n",
              "  </tbody>\n",
              "</table>\n",
              "</div>"
            ],
            "text/plain": [
              "      shopid     userid  ... order_id duration_minute\n",
              "426    10159  214988798  ...        3            18.0\n",
              "901    10287  198097381  ...        3             4.0\n",
              "907    10287  214226569  ...        3            13.0\n",
              "1108   10402      77819  ...        3             5.0\n",
              "1847   29583  214495220  ...        4            15.0\n",
              "\n",
              "[5 rows x 6 columns]"
            ]
          },
          "metadata": {
            "tags": []
          },
          "execution_count": 161
        }
      ]
    },
    {
      "cell_type": "code",
      "metadata": {
        "id": "TOY3xPiiSdhc",
        "colab_type": "code",
        "colab": {
          "base_uri": "https://localhost:8080/",
          "height": 202
        },
        "outputId": "d4f35102-cdea-47a4-c8e5-11612c9cd46a"
      },
      "source": [
        "df_agg.userid = df_agg.userid.astype('str')\n",
        "df_agg = df_agg.groupby(by = \"shopid\", as_index = False).agg({'userid' :', '.join})\n",
        "df_agg.head()"
      ],
      "execution_count": null,
      "outputs": [
        {
          "output_type": "execute_result",
          "data": {
            "text/html": [
              "<div>\n",
              "<style scoped>\n",
              "    .dataframe tbody tr th:only-of-type {\n",
              "        vertical-align: middle;\n",
              "    }\n",
              "\n",
              "    .dataframe tbody tr th {\n",
              "        vertical-align: top;\n",
              "    }\n",
              "\n",
              "    .dataframe thead th {\n",
              "        text-align: right;\n",
              "    }\n",
              "</style>\n",
              "<table border=\"1\" class=\"dataframe\">\n",
              "  <thead>\n",
              "    <tr style=\"text-align: right;\">\n",
              "      <th></th>\n",
              "      <th>shopid</th>\n",
              "      <th>userid</th>\n",
              "    </tr>\n",
              "  </thead>\n",
              "  <tbody>\n",
              "    <tr>\n",
              "      <th>0</th>\n",
              "      <td>10159</td>\n",
              "      <td>214988798</td>\n",
              "    </tr>\n",
              "    <tr>\n",
              "      <th>1</th>\n",
              "      <td>10287</td>\n",
              "      <td>198097381, 214226569</td>\n",
              "    </tr>\n",
              "    <tr>\n",
              "      <th>2</th>\n",
              "      <td>10402</td>\n",
              "      <td>77819</td>\n",
              "    </tr>\n",
              "    <tr>\n",
              "      <th>3</th>\n",
              "      <td>29583</td>\n",
              "      <td>214495220, 215275495</td>\n",
              "    </tr>\n",
              "    <tr>\n",
              "      <th>4</th>\n",
              "      <td>42472</td>\n",
              "      <td>740844</td>\n",
              "    </tr>\n",
              "  </tbody>\n",
              "</table>\n",
              "</div>"
            ],
            "text/plain": [
              "   shopid                userid\n",
              "0   10159             214988798\n",
              "1   10287  198097381, 214226569\n",
              "2   10402                 77819\n",
              "3   29583  214495220, 215275495\n",
              "4   42472                740844"
            ]
          },
          "metadata": {
            "tags": []
          },
          "execution_count": 163
        }
      ]
    }
  ]
}